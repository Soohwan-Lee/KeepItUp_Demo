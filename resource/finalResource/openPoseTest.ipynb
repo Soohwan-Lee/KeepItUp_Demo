{
 "cells": [
  {
   "cell_type": "markdown",
   "id": "e4155580",
   "metadata": {},
   "source": [
    "# Pose Estimation by OpenPose"
   ]
  },
  {
   "cell_type": "code",
   "execution_count": null,
   "id": "ea96af28",
   "metadata": {},
   "outputs": [],
   "source": [
    "#Setting OpenPose parameters\n",
    "def set_params():\n",
    "\n",
    "        params = dict()\n",
    "        params[\"logging_level\"] = 3\n",
    "        params[\"output_resolution\"] = \"-1x-1\"\n",
    "        params[\"net_resolution\"] = \"-1x368\"\n",
    "        params[\"model_pose\"] = \"BODY_25\"\n",
    "        params[\"alpha_pose\"] = 0.6\n",
    "        params[\"scale_gap\"] = 0.3\n",
    "        params[\"scale_number\"] = 1\n",
    "        params[\"render_threshold\"] = 0.05\n",
    "        # If GPU version is built, and multiple GPUs are available, set the ID here\n",
    "        params[\"num_gpu_start\"] = 0\n",
    "        params[\"disable_blending\"] = False\n",
    "        # Ensure you point to the correct path where models are located\n",
    "#         params[\"default_model_folder\"] = dir_path + \"/../../../models/\"\n",
    "        params[\"default_model_folder\"] = model_path = '../../model/'\n",
    "        return params\n",
    "\n",
    "def main():\n",
    "\n",
    "\n",
    "        params = set_params()\n",
    "\n",
    "        #Constructing OpenPose object allocates GPU memory\n",
    "        openpose = OpenPose(params)\n",
    "\n",
    "        #Opening OpenCV stream\n",
    "        stream = cv2.VideoCapture(1)\n",
    "\n",
    "        font = cv2.FONT_HERSHEY_SIMPLEX\n",
    "\n",
    "        while True:\n",
    "\n",
    "                ret,img = stream.read()\n",
    "\n",
    "                # Output keypoints and the image with the human skeleton blended on it\n",
    "                keypoints, output_image = openpose.forward(img, True)\n",
    "\n",
    "                # Print the human pose keypoints, i.e., a [#people x #keypoints x 3]-dimensional numpy object with the keypoints of all the people on that image\n",
    "                if len(keypoints)>0:\n",
    "                        print('Human(s) Pose Estimated!')\n",
    "                        print(keypoints)\n",
    "                else:\n",
    "                        print('No humans detected!')\n",
    "\n",
    "\n",
    "                # Display the stream\n",
    "                cv2.putText(output_image,'OpenPose using Python-OpenCV',(20,30), font, 1,(255,255,255),1,cv2.LINE_AA)\n",
    "\n",
    "                cv2.imshow('Human Pose Estimation',output_image)\n",
    "\n",
    "                key = cv2.waitKey(1)\n",
    "\n",
    "                if key==ord('q'):\n",
    "                        break\n",
    "\n",
    "        stream.release()\n",
    "        cv2.destroyAllWindows()\n"
   ]
  }
 ],
 "metadata": {
  "kernelspec": {
   "display_name": "Python 3 (ipykernel)",
   "language": "python",
   "name": "python3"
  },
  "language_info": {
   "codemirror_mode": {
    "name": "ipython",
    "version": 3
   },
   "file_extension": ".py",
   "mimetype": "text/x-python",
   "name": "python",
   "nbconvert_exporter": "python",
   "pygments_lexer": "ipython3",
   "version": "3.7.16"
  }
 },
 "nbformat": 4,
 "nbformat_minor": 5
}
