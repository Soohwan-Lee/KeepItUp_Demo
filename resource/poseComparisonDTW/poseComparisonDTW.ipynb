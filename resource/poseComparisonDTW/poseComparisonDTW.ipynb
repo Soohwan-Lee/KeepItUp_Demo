{
 "cells": [
  {
   "attachments": {},
   "cell_type": "markdown",
   "metadata": {},
   "source": [
    "# DTW with recorded coordinates"
   ]
  },
  {
   "cell_type": "code",
   "execution_count": 1,
   "metadata": {},
   "outputs": [
    {
     "name": "stdout",
     "output_type": "stream",
     "text": [
      "Collecting fastdtw\n",
      "  Downloading fastdtw-0.3.4.tar.gz (133 kB)\n",
      "\u001b[2K     \u001b[90m━━━━━━━━━━━━━━━━━━━━━━━━━━━━━━━━━━━━━━━\u001b[0m \u001b[32m133.4/133.4 kB\u001b[0m \u001b[31m2.6 MB/s\u001b[0m eta \u001b[36m0:00:00\u001b[0m00:01\u001b[0m\n",
      "\u001b[?25h  Preparing metadata (setup.py) ... \u001b[?25ldone\n",
      "\u001b[?25hRequirement already satisfied: numpy in /opt/anaconda3/envs/py38/lib/python3.8/site-packages (from fastdtw) (1.23.4)\n",
      "Building wheels for collected packages: fastdtw\n",
      "  Building wheel for fastdtw (setup.py) ... \u001b[?25ldone\n",
      "\u001b[?25h  Created wheel for fastdtw: filename=fastdtw-0.3.4-py3-none-any.whl size=3566 sha256=5aa19b75247b7ad0adf0c49ac3c15c77bffdcf8319bcfec08906c3f42074c092\n",
      "  Stored in directory: /Users/Soohwan/Library/Caches/pip/wheels/e9/ac/30/c962f9d759dd68cb5482727c44441fdfb48040fdbe983857e8\n",
      "Successfully built fastdtw\n",
      "Installing collected packages: fastdtw\n",
      "Successfully installed fastdtw-0.3.4\n",
      "Note: you may need to restart the kernel to use updated packages.\n"
     ]
    }
   ],
   "source": [
    "pip install fastdtw"
   ]
  },
  {
   "cell_type": "code",
   "execution_count": 2,
   "metadata": {},
   "outputs": [],
   "source": [
    "import tensorflow as tf\n",
    "import tensorflow_hub as hub\n",
    "import cv2\n",
    "from matplotlib import pyplot as plt\n",
    "from matplotlib import animation\n",
    "import numpy as np\n",
    "import pandas as pd\n",
    "import math\n",
    "import socket\n",
    "import time"
   ]
  },
  {
   "cell_type": "code",
   "execution_count": null,
   "metadata": {},
   "outputs": [],
   "source": [
    "import numpy as np\n",
    "import cv2\n",
    "from scipy.spatial.distance import euclidean\n",
    "from fastdtw import fastdtw\n",
    "\n",
    "# assume video_path is the path to the video file\n",
    "# video_path = \"path/to/video.mp4\"\n",
    "video_path = '../../data/videos/'\n",
    "sampleVideo = video_path + 'sampleVideo.mp4'\n",
    "basicFour = video_path + 'basic_four.mp4'\n",
    "basicTwo = video_path + 'basic_two.mp4'\n",
    "swingDiff = video_path + 'swing_diff.mp4'\n",
    "swingSame = video_path + 'swing_same.mp4'\n",
    "swingRaw = video_path + 'swingRaw.mp4'\n",
    "temporalDifficult = video_path + 'temporalDifficultRaw.mp4'\n",
    "temporalEasy = video_path + 'temporalEasyRaw.mp4'\n",
    "\n",
    "# assume pose1_coords is a numpy array of shape (M, 2),\n",
    "# where M is the number of pose keypoints * 2\n",
    "pose1_coords = None\n",
    "\n",
    "# read the video using OpenCV\n",
    "cap = cv2.VideoCapture(swingSame)\n",
    "\n",
    "while cap.isOpened():\n",
    "    # read a frame from the video\n",
    "    ret, frame = cap.read()\n",
    "\n",
    "    if not ret:\n",
    "        break\n",
    "\n",
    "    # assume pose estimation code extracts the pose coordinates from the frame\n",
    "    pose2 = pose_estimation(frame)\n",
    "\n",
    "    if pose1_coords is None:\n",
    "        # initialize the reference pose sequence with the first pose\n",
    "        pose1_coords = pose2.flatten()\n",
    "        continue\n",
    "\n",
    "    # compute the Euclidean distance between corresponding keypoints\n",
    "    distance = lambda a, b: euclidean(a, b)\n",
    "\n",
    "    # compute the DTW distance and path\n",
    "    distance, path = fastdtw(pose1_coords.reshape(1, -1), pose2.flatten().reshape(1, -1), dist=distance)\n",
    "\n",
    "    # compute the similarity between the poses (using a normalized distance)\n",
    "    similarity = 1.0 / (1.0 + distance)\n",
    "\n",
    "    # compute the time difference between the current frame and the reference frame\n",
    "    time_diff = (path[-1][0] - path[0][0]) / float(len(pose1_coords))\n",
    "\n",
    "    # update the reference pose sequence with the current pose\n",
    "    pose1_coords = pose2.flatten()\n",
    "\n",
    "    # print the results\n",
    "    print(\"Pose similarity: \", similarity)\n",
    "    print(\"Time difference: \", time_diff)"
   ]
  },
  {
   "cell_type": "code",
   "execution_count": null,
   "metadata": {},
   "outputs": [],
   "source": []
  }
 ],
 "metadata": {
  "kernelspec": {
   "display_name": "py38",
   "language": "python",
   "name": "python3"
  },
  "language_info": {
   "codemirror_mode": {
    "name": "ipython",
    "version": 3
   },
   "file_extension": ".py",
   "mimetype": "text/x-python",
   "name": "python",
   "nbconvert_exporter": "python",
   "pygments_lexer": "ipython3",
   "version": "3.8.13"
  },
  "orig_nbformat": 4
 },
 "nbformat": 4,
 "nbformat_minor": 2
}
